{
 "cells": [
  {
   "cell_type": "code",
   "execution_count": 1,
   "metadata": {
    "extensions": {
     "jupyter_dashboards": {
      "version": 1,
      "views": {
       "grid_default": {},
       "report_default": {
        "hidden": false
       }
      }
     }
    }
   },
   "outputs": [
    {
     "data": {
      "image/png": "[encoded data removed]",
      "text/plain": [
       "<IPython.core.display.Image object>"
      ]
     },
     "execution_count": 1,
     "metadata": {
      "image/png": {
       "height": 55.5,
       "width": 251.8
      }
     },
     "output_type": "execute_result"
    }
   ],
   "source": [
    "from IPython.display import Image\n",
    "#Image(filename='ecotope_color_logo.png') \n",
    "Image(filename = \"ecotope_color_logo.png\", width=251.8, height=55.5)"
   ]
  },
  {
   "cell_type": "code",
   "execution_count": 2,
   "metadata": {
    "extensions": {
     "jupyter_dashboards": {
      "version": 1,
      "views": {
       "grid_default": {},
       "report_default": {
        "hidden": true
       }
      }
     }
    }
   },
   "outputs": [],
   "source": [
    "import pandas as pd\n",
    "import numpy as np\n",
    "\n",
    "import math\n",
    "import sqlite3\n",
    "import os\n",
    "\n",
    "import matplotlib as plt\n",
    "import seaborn as sns"
   ]
  },
  {
   "cell_type": "code",
   "execution_count": 3,
   "metadata": {
    "extensions": {
     "jupyter_dashboards": {
      "version": 1,
      "views": {
       "grid_default": {},
       "report_default": {
        "hidden": true
       }
      }
     }
    }
   },
   "outputs": [],
   "source": [
    "## FILE PATH\n",
    "# define path for database file, you will have to edit to your repository path or it will NOT work\n",
    "path = \"C:\\\\Users\\\\scott\\\\github\\\\OCCE_HVAC_Comparison\\\\\"\n",
    "filename = \"NEAA_final_dataset.db\"\n",
    "\n",
    "# make connection\n",
    "con = sqlite3.connect(os.path.join(path, filename))"
   ]
  },
  {
   "cell_type": "markdown",
   "metadata": {
    "extensions": {
     "jupyter_dashboards": {
      "version": 1,
      "views": {
       "grid_default": {},
       "report_default": {
        "hidden": false
       }
      }
     }
    }
   },
   "source": [
    "# OUTDOOR AIR LOAD"
   ]
  },
  {
   "cell_type": "code",
   "execution_count": 4,
   "metadata": {
    "extensions": {
     "jupyter_dashboards": {
      "version": 1,
      "views": {
       "grid_default": {},
       "report_default": {
        "hidden": true
       }
      }
     }
    }
   },
   "outputs": [],
   "source": [
    "# Inputs\n",
    "t_oa_winter = {'Portland':25.0, 'Albany':24.8, 'Eugene':22.8, 'Bend':5.2, 'Salem':23.7,\n",
    "               'Stayton':23.7, 'Beaverton':25.0, 'Newberg':25.0, 'Medford':22.8, 'Tualatin':25.0,\n",
    "               'Sherwood':25.0, 'Corvallis':24.8, 'Helix':8.2, 'Crescent':5.2} # outdoor air temperature at Heating Design Setpoint\n",
    "t_oa_summer = {'Portland':91.2, 'Albany':92.7, 'Eugene':91.8, 'Bend':93.2, 'Salem':92.1,\n",
    "               'Stayton':92.1, 'Beaverton':91.2, 'Newberg':91.2, 'Medford':99.0, 'Tualatin':91.2,\n",
    "               'Sherwood':91.2, 'Corvallis':92.7, 'Helix':96.8, 'Crescent':93.2} # outdoor air temperature at Heating Design Setpoint\n",
    "t_stpt = 72 # room setpoint temperatures\n",
    "\n",
    "# df rows to print\n",
    "row = 5"
   ]
  },
  {
   "cell_type": "code",
   "execution_count": 5,
   "metadata": {
    "extensions": {
     "jupyter_dashboards": {
      "version": 1,
      "views": {
       "grid_default": {},
       "report_default": {
        "hidden": true
       }
      }
     }
    }
   },
   "outputs": [],
   "source": [
    "## cfm/sf calculation\n",
    "\n",
    "# text for OA sql query\n",
    "sql_query = \"SELECT SPACES.siteid, SITE_DETAILS.city, SPACES.[cfm/sf], SPACES.totalmeasurement, SPACES.conditionedmeasurement \" #\n",
    "sql_query += \"FROM SPACES \"\n",
    "sql_query += \"LEFT JOIN SITE_DETAILS \"\n",
    "sql_query += \"ON SPACES.siteid = SITE_DETAILS.siteid\"\n",
    "\n",
    "OA_LOADS = pd.read_sql_query(sql_query, con)\n",
    "\n",
    "OA_LOADS = OA_LOADS.replace(r'^\\s*$', np.nan, regex=True) #replace blank spaces with NaN\n",
    "\n",
    "# estimate outdoor air\n",
    "OA_LOADS['OutdoorAir [cfm]'] = (OA_LOADS['cfm/sf'] * OA_LOADS['totalmeasurement'])\n",
    "\n",
    "# calculate heating load from OA\n",
    "cooling = []\n",
    "heating = []\n",
    "for i in range(0,len(OA_LOADS)):\n",
    "    cooling.append((1.08 * OA_LOADS['OutdoorAir [cfm]'][i] * (t_oa_summer[OA_LOADS['city'][i]] - t_stpt)) / 1000)\n",
    "    heating.append((1.08 * OA_LOADS['OutdoorAir [cfm]'][i] * (t_stpt - t_oa_winter[OA_LOADS['city'][i]])) / 1000)\n",
    "    \n",
    "# append lists to df\n",
    "OA_LOADS['OA Heating Load [kBtu]'] = heating\n",
    "OA_LOADS['OA Cooling Load [kBtu]'] = cooling\n",
    "\n",
    "OA_LOADS = OA_LOADS.groupby('siteid').sum()"
   ]
  },
  {
   "cell_type": "code",
   "execution_count": 6,
   "metadata": {
    "extensions": {
     "jupyter_dashboards": {
      "version": 1,
      "views": {
       "grid_default": {},
       "report_default": {
        "hidden": true
       }
      }
     }
    }
   },
   "outputs": [],
   "source": [
    "## Outdoor Air Loads / Area\n",
    "\n",
    "# estimate area\n",
    "OA_LOADS['EstAreaSF'] = OA_LOADS.loc[:, ['conditionedmeasurement', \n",
    "                                     'totalmeasurement']].min(axis = 1)\n",
    "\n",
    "OA_LOADS['OA Heating [sf / kBtu]'] = OA_LOADS['EstAreaSF'] / OA_LOADS['OA Heating Load [kBtu]']\n",
    "OA_LOADS['OA Cooling [sf / ton]'] = OA_LOADS['EstAreaSF'] / (OA_LOADS['OA Cooling Load [kBtu]'] / 12)"
   ]
  },
  {
   "cell_type": "code",
   "execution_count": 7,
   "metadata": {
    "extensions": {
     "jupyter_dashboards": {
      "version": 1,
      "views": {
       "grid_default": {},
       "report_default": {
        "hidden": true
       }
      }
     }
    }
   },
   "outputs": [],
   "source": [
    "#OA_LOADS.head(row)"
   ]
  },
  {
   "cell_type": "code",
   "execution_count": 8,
   "metadata": {
    "extensions": {
     "jupyter_dashboards": {
      "version": 1,
      "views": {
       "grid_default": {},
       "report_default": {
        "hidden": true
       }
      }
     }
    }
   },
   "outputs": [],
   "source": [
    "folder = 'RESULTS\\\\'\n",
    "name = 'OA_LOADS.csv'\n",
    "OA_LOADS.to_csv(path + folder + name)"
   ]
  },
  {
   "cell_type": "markdown",
   "metadata": {
    "extensions": {
     "jupyter_dashboards": {
      "version": 1,
      "views": {
       "grid_default": {},
       "report_default": {
        "hidden": false
       }
      }
     }
    }
   },
   "source": [
    "## [CFM/SF] Loads"
   ]
  },
  {
   "cell_type": "code",
   "execution_count": 9,
   "metadata": {
    "extensions": {
     "jupyter_dashboards": {
      "version": 1,
      "views": {
       "grid_default": {},
       "report_default": {
        "hidden": false
       }
      }
     }
    }
   },
   "outputs": [
    {
     "data": {
      "image/png": "[encoded data removed]",
      "text/plain": [
       "<Figure size 432x360 with 1 Axes>"
      ]
     },
     "metadata": {},
     "output_type": "display_data"
    }
   ],
   "source": [
    "sns.set(rc={'figure.figsize':(6,5)})\n",
    "ax = sns.swarmplot(x=OA_LOADS[\"cfm/sf\"], color=\".25\")\n",
    "ax = sns.boxplot(x=OA_LOADS[\"cfm/sf\"], color=sns.xkcd_rgb[\"muted green\"])"
   ]
  },
  {
   "cell_type": "markdown",
   "metadata": {
    "extensions": {
     "jupyter_dashboards": {
      "version": 1,
      "views": {
       "grid_default": {},
       "report_default": {
        "hidden": false
       }
      }
     }
    }
   },
   "source": [
    "## Outdoor Air Heating Loads"
   ]
  },
  {
   "cell_type": "code",
   "execution_count": 10,
   "metadata": {
    "extensions": {
     "jupyter_dashboards": {
      "version": 1,
      "views": {
       "grid_default": {},
       "report_default": {
        "hidden": false
       }
      }
     }
    }
   },
   "outputs": [
    {
     "data": {
      "image/png": "[encoded data removed]",
      "text/plain": [
       "<Figure size 432x360 with 1 Axes>"
      ]
     },
     "metadata": {},
     "output_type": "display_data"
    }
   ],
   "source": [
    "ax = sns.swarmplot(x=OA_LOADS['OA Heating [sf / kBtu]'], color=\".25\")\n",
    "ax = sns.boxplot(x=OA_LOADS['OA Heating [sf / kBtu]'], color=sns.xkcd_rgb[\"pale red\"])"
   ]
  },
  {
   "cell_type": "markdown",
   "metadata": {
    "extensions": {
     "jupyter_dashboards": {
      "version": 1,
      "views": {
       "grid_default": {},
       "report_default": {
        "hidden": false
       }
      }
     }
    }
   },
   "source": [
    "## Outdoor Air Cooling Loads"
   ]
  },
  {
   "cell_type": "code",
   "execution_count": 11,
   "metadata": {
    "extensions": {
     "jupyter_dashboards": {
      "version": 1,
      "views": {
       "grid_default": {},
       "report_default": {
        "hidden": false
       }
      }
     }
    }
   },
   "outputs": [
    {
     "data": {
      "image/png": "[encoded data removed]",
      "text/plain": [
       "<Figure size 432x360 with 1 Axes>"
      ]
     },
     "metadata": {},
     "output_type": "display_data"
    }
   ],
   "source": [
    "ax = sns.swarmplot(x=OA_LOADS['OA Cooling [sf / ton]'], color=\".25\")\n",
    "ax = sns.boxplot(x=OA_LOADS['OA Cooling [sf / ton]'])"
   ]
  },
  {
   "cell_type": "markdown",
   "metadata": {
    "extensions": {
     "jupyter_dashboards": {
      "version": 1,
      "views": {
       "grid_default": {},
       "report_default": {
        "hidden": false
       }
      }
     }
    }
   },
   "source": [
    "# COOLING LOAD"
   ]
  },
  {
   "cell_type": "code",
   "execution_count": 12,
   "metadata": {
    "extensions": {
     "jupyter_dashboards": {
      "version": 1,
      "views": {
       "grid_default": {},
       "report_default": {
        "hidden": true
       }
      }
     }
    }
   },
   "outputs": [],
   "source": [
    "## VARIABLES DEFINED\n",
    "# Design Day temperature by city\n",
    "t_oa_winter = {'Portland':25.0, 'Albany':24.8, 'Eugene':22.8, 'Bend':5.2, 'Salem':23.7,\n",
    "               'Stayton':23.7, 'Beaverton':25.0, 'Newberg':25.0, 'Medford':22.8, 'Tualatin':25.0,\n",
    "               'Sherwood':25.0, 'Corvallis':24.8, 'Helix':8.2, 'Crescent':5.2} # outdoor air temperature at Heating Design Setpoint\n",
    "t_oa_summer = {'Portland':91.2, 'Albany':92.7, 'Eugene':91.8, 'Bend':93.2, 'Salem':92.1,\n",
    "               'Stayton':92.1, 'Beaverton':91.2, 'Newberg':91.2, 'Medford':99.0, 'Tualatin':91.2,\n",
    "               'Sherwood':91.2, 'Corvallis':92.7, 'Helix':96.8, 'Crescent':93.2} # outdoor air temperature at Heating Design Setpoint\n",
    "t_stpt = 72 # room setpoint temperatures\n",
    "\n",
    "# variables used in CLTD conduction/convection heat gain\n",
    "cltd_start=40 # starting assumed CLTD for walls and roof\n",
    "k=1\n",
    "f=1\n",
    "\n",
    "# varaibles used for CLF solar heat gain\n",
    "\n",
    "clfN = 0.82 # cooling load factor, table 13 ashrae 1985\n",
    "shgfN = 33 # max solar heat gain factor, table 11 ashrae 1985\n",
    "\n",
    "clfS = 0.65 # cooling load factor, table 13 ashrae 1985\n",
    "shgfS = 180 # max solar heat gain factor, table 11 ashrae 1985\n",
    "\n",
    "clfE = 0.32 # cooling load factor, table 13 ashrae 1985\n",
    "shgfE = 211 # max solar heat gain factor, table 11 ashrae 1985\n",
    "\n",
    "clfW = 0.32 # cooling load factor, table 13 ashrae 1985\n",
    "shgfW = 211 # max solar heat gain factor, table 11 ashrae 1985\n",
    "\n",
    "# rows to show\n",
    "row = 15"
   ]
  },
  {
   "cell_type": "code",
   "execution_count": 13,
   "metadata": {
    "extensions": {
     "jupyter_dashboards": {
      "version": 1,
      "views": {
       "grid_default": {},
       "report_default": {
        "hidden": true
       }
      }
     }
    }
   },
   "outputs": [],
   "source": [
    "## QUERY\n",
    "# text for UA sql query\n",
    "sql_query = 'SELECT SITE_DETAILS.siteid, SITE_DETAILS.totalconditionedfloorareaofallbuildings, SITE_DETAILS.totalgrossfloorareaofallbuildings, '\n",
    "sql_query += 'SITE_DETAILS.[detail.primarybuildingtypecategory], SITE_DETAILS.city, OVERALL_UA.[ua.total], '\n",
    "sql_query += 'COOLINGLOADENV.WallNorth, COOLINGLOADENV.WallSouth, COOLINGLOADENV.WallEast, COOLINGLOADENV.WallWest, '\n",
    "sql_query += 'COOLINGLOADENV.WindowNorth, COOLINGLOADENV.WindowSouth, COOLINGLOADENV.WindowEast, COOLINGLOADENV.WindowWest, '\n",
    "sql_query += 'COOLINGLOADENV.SC, COOLINGLOADENV.LPD, COOLINGLOADENV.EPD, COOLINGLOADENV.PPL '\n",
    "sql_query += 'FROM SITE_DETAILS '\n",
    "sql_query += 'LEFT JOIN OVERALL_UA '\n",
    "sql_query += 'ON SITE_DETAILS.siteid = OVERALL_UA.siteid '\n",
    "sql_query += 'LEFT JOIN COOLINGLOADENV '\n",
    "sql_query += 'ON SITE_DETAILS.siteid = COOLINGLOADENV.siteid'\n",
    "\n",
    "ENV_GAIN = pd.read_sql_query(sql_query, con)\n",
    "ENV_GAIN = ENV_GAIN.replace(r'^\\s*$', np.nan, regex=True) #replace blank spaces with NaN\n",
    "\n",
    "#ENV_GAIN.head(row)"
   ]
  },
  {
   "cell_type": "code",
   "execution_count": 14,
   "metadata": {
    "extensions": {
     "jupyter_dashboards": {
      "version": 1,
      "views": {
       "grid_default": {},
       "report_default": {
        "hidden": true
       }
      }
     }
    }
   },
   "outputs": [],
   "source": [
    "## ENVELOPE GAIN - CONDUCTION AND CONVECTION\n",
    "\n",
    "# CLTD adjustments\n",
    "# Calculate weighted wall LM\n",
    "lmN = 3\n",
    "lmE = 1\n",
    "lmS = 7\n",
    "lmW = 1\n",
    "\n",
    "lm_list = []\n",
    "cltd_list = []\n",
    "for i in range(0, len(ENV_GAIN)):\n",
    "    \n",
    "    # Calculate LM\n",
    "    lm = ((ENV_GAIN['WallNorth'][i]*lmN + ENV_GAIN['WallSouth'][i]*lmS+ENV_GAIN['WallEast'][i]*lmE + ENV_GAIN['WallWest'][i]*lmW)/(ENV_GAIN['WallNorth'][i] + ENV_GAIN['WallSouth'][i] + ENV_GAIN['WallEast'][i] + ENV_GAIN['WallWest'][i]))\n",
    "    lm_list.append(lm)\n",
    "\n",
    "    # Calculate adjusted CLTD\n",
    "    cltd = ((cltd_start + lm) * k + (78 - 72) + (t_oa_summer[ENV_GAIN['city'][i]] - 85)) * f\n",
    "    cltd_list.append(cltd)\n",
    "    \n",
    "# append lists to df\n",
    "ENV_GAIN['LM'] = lm_list\n",
    "ENV_GAIN['CLTD'] = cltd_list\n",
    "\n",
    "# calculate heat gain from conduction\n",
    "ENV_GAIN['Heat Gain UA [kBtu]'] = (ENV_GAIN['CLTD'] * ENV_GAIN['ua.total']) / 1000"
   ]
  },
  {
   "cell_type": "code",
   "execution_count": 15,
   "metadata": {
    "extensions": {
     "jupyter_dashboards": {
      "version": 1,
      "views": {
       "grid_default": {},
       "report_default": {
        "hidden": true
       }
      }
     }
    }
   },
   "outputs": [],
   "source": [
    "## EVELOPE GAIN FENESTRATION\n",
    "\n",
    "solarGain_list = []\n",
    "for i in range(0, len(ENV_GAIN)):\n",
    "    solarGainNorth = (ENV_GAIN['WindowNorth'][i]*ENV_GAIN['SC'][i]*shgfN*clfN) / 1000\n",
    "    solarGainSouth = (ENV_GAIN['WindowSouth'][i]*ENV_GAIN['SC'][i]*shgfS*clfS) / 1000\n",
    "    solarGainEast = (ENV_GAIN['WindowEast'][i]*ENV_GAIN['SC'][i]*shgfE*clfE) / 1000\n",
    "    solarGainWest = (ENV_GAIN['WindowWest'][i]*ENV_GAIN['SC'][i]*shgfW*clfW) / 1000\n",
    "    \n",
    "    solarGain = solarGainNorth+solarGainSouth+solarGainEast+solarGainWest\n",
    "    solarGain_list.append(solarGain)\n",
    "    \n",
    "ENV_GAIN['Heat Gain Solar [kBtu]'] = solarGain_list"
   ]
  },
  {
   "cell_type": "code",
   "execution_count": null,
   "metadata": {},
   "outputs": [],
   "source": []
  },
  {
   "cell_type": "code",
   "execution_count": 16,
   "metadata": {
    "extensions": {
     "jupyter_dashboards": {
      "version": 1,
      "views": {
       "grid_default": {},
       "report_default": {
        "hidden": true
       }
      }
     }
    }
   },
   "outputs": [],
   "source": [
    "## INTERNAL LOADS\n",
    "\n",
    "internalGains = []\n",
    "for i in range(0, len(ENV_GAIN)):\n",
    "    \n",
    "    # determine area to use\n",
    "    if math.isnan(ENV_GAIN['totalconditionedfloorareaofallbuildings'][i]):\n",
    "        if math.isnan(ENV_GAIN['totalgrossfloorareaofallbuildings'][i]):\n",
    "            area = 0\n",
    "        else:\n",
    "            area = ENV_GAIN['totalgrossfloorareaofallbuildings'][i]\n",
    "    else:\n",
    "        area = ENV_GAIN['totalconditionedfloorareaofallbuildings'][i]\n",
    "    \n",
    "    # check internal load assumptions ** dividing by 10 to make reasonable. \n",
    "    internalGains.append((area * (ENV_GAIN['LPD'][i] + ENV_GAIN['EPD'][i] + ENV_GAIN['PPL'][i])) / 1000)\n",
    "\n",
    "ENV_GAIN['Heat Gain Internal [kBtu]'] = internalGains"
   ]
  },
  {
   "cell_type": "code",
   "execution_count": 17,
   "metadata": {
    "extensions": {
     "jupyter_dashboards": {
      "version": 1,
      "views": {
       "grid_default": {},
       "report_default": {
        "hidden": true
       }
      }
     }
    }
   },
   "outputs": [],
   "source": [
    "## SUMMATION\n",
    "\n",
    "ENV_GAIN['Cooling Load - Envelop and Internal [kBtu]'] = ENV_GAIN['Heat Gain Solar [kBtu]'] + ENV_GAIN['Heat Gain UA [kBtu]'] + ENV_GAIN['Heat Gain Internal [kBtu]']\n",
    "\n",
    "\n",
    "#####################################################\n",
    "\n",
    "## SF PER TON CHECK\n",
    "\n",
    "# Estimated Area\n",
    "ENV_GAIN['EstAreaSF'] = ENV_GAIN.loc[:, ['totalconditionedfloorareaofallbuildings', \n",
    "                                     'totalgrossfloorareaofallbuildings']].min(axis = 1)\n",
    "\n",
    "# Estimated kBtu / sf\n",
    "ENV_GAIN['Cooling [kBtu / sf]'] = ENV_GAIN['Cooling Load - Envelop and Internal [kBtu]'] / ENV_GAIN['EstAreaSF']\n",
    "ENV_GAIN['Cooling [sf / ton]'] = ENV_GAIN['EstAreaSF'] / (ENV_GAIN['Cooling Load - Envelop and Internal [kBtu]'] / 12)"
   ]
  },
  {
   "cell_type": "code",
   "execution_count": 18,
   "metadata": {
    "extensions": {
     "jupyter_dashboards": {
      "version": 1,
      "views": {
       "grid_default": {},
       "report_default": {
        "hidden": true
       }
      }
     }
    }
   },
   "outputs": [],
   "source": [
    "#ENV_GAIN.head(row)"
   ]
  },
  {
   "cell_type": "code",
   "execution_count": 19,
   "metadata": {
    "extensions": {
     "jupyter_dashboards": {
      "version": 1,
      "views": {
       "grid_default": {},
       "report_default": {
        "hidden": true
       }
      }
     }
    }
   },
   "outputs": [],
   "source": [
    "## CSV EXPORT\n",
    "folder = 'RESULTS\\\\'\n",
    "name = 'ENV_GAIN.csv'\n",
    "ENV_GAIN.to_csv(path + folder + name)"
   ]
  },
  {
   "cell_type": "markdown",
   "metadata": {
    "extensions": {
     "jupyter_dashboards": {
      "version": 1,
      "views": {
       "grid_default": {},
       "report_default": {
        "hidden": false
       }
      }
     }
    }
   },
   "source": [
    "## Calclulated Cooling Load vs Building Type - Envelope and Internal Loads"
   ]
  },
  {
   "cell_type": "code",
   "execution_count": 20,
   "metadata": {
    "extensions": {
     "jupyter_dashboards": {
      "version": 1,
      "views": {
       "grid_default": {},
       "report_default": {
        "hidden": false
       }
      }
     }
    }
   },
   "outputs": [
    {
     "data": {
      "image/png": "[encoded data removed]",
      "text/plain": [
       "<Figure size 842.4x595.44 with 1 Axes>"
      ]
     },
     "metadata": {},
     "output_type": "display_data"
    }
   ],
   "source": [
    "sns.set(rc={'figure.figsize':(11.7,8.27)})\n",
    "ax = sns.swarmplot(x=\"detail.primarybuildingtypecategory\", y=\"Cooling [sf / ton]\", data=ENV_GAIN, color=\".25\")\n",
    "ax = sns.boxplot(x=\"detail.primarybuildingtypecategory\", y=\"Cooling [sf / ton]\", data=ENV_GAIN)"
   ]
  },
  {
   "cell_type": "markdown",
   "metadata": {
    "extensions": {
     "jupyter_dashboards": {
      "version": 1,
      "views": {
       "grid_default": {},
       "report_default": {
        "hidden": false
       }
      }
     }
    }
   },
   "source": [
    "# HEATING LOAD "
   ]
  },
  {
   "cell_type": "code",
   "execution_count": 21,
   "metadata": {
    "extensions": {
     "jupyter_dashboards": {
      "version": 1,
      "views": {
       "grid_default": {},
       "report_default": {
        "hidden": false
       }
      }
     }
    }
   },
   "outputs": [],
   "source": [
    "# text for UA sql query\n",
    "sql_query = 'SELECT SITE_DETAILS.siteid, SITE_DETAILS.totalconditionedfloorareaofallbuildings, SITE_DETAILS.totalgrossfloorareaofallbuildings, '\n",
    "sql_query += 'SITE_DETAILS.[detail.primarybuildingtypecategory], SITE_DETAILS.city, '\n",
    "sql_query += 'OVERALL_UA.[ua.total]FROM SITE_DETAILS LEFT JOIN OVERALL_UA '\n",
    "sql_query += 'ON SITE_DETAILS.siteid = OVERALL_UA.siteid'\n",
    "\n",
    "ENV_LOSS = pd.read_sql_query(sql_query, con)\n",
    "ENV_LOSS = ENV_LOSS.replace(r'^\\s*$', np.nan, regex=True) #replace blank spaces with NaN."
   ]
  },
  {
   "cell_type": "code",
   "execution_count": 22,
   "metadata": {
    "extensions": {
     "jupyter_dashboards": {
      "version": 1,
      "views": {
       "grid_default": {},
       "report_default": {
        "hidden": true
       }
      }
     }
    }
   },
   "outputs": [],
   "source": [
    "env_loss = []\n",
    "\n",
    "# Envelope Loss Calculation\n",
    "for i in range(0,len(ENV_LOSS)):\n",
    "    env_loss.append((ENV_LOSS['ua.total'][i]*(t_stpt - t_oa_winter[ENV_LOSS['city'][i]])) / 1000) # /1000 for kBtu\n",
    "    \n",
    "ENV_LOSS['Heating Load - Envelope [kBtu]'] = env_loss"
   ]
  },
  {
   "cell_type": "code",
   "execution_count": 23,
   "metadata": {
    "extensions": {
     "jupyter_dashboards": {
      "version": 1,
      "views": {
       "grid_default": {},
       "report_default": {
        "hidden": true
       }
      }
     }
    }
   },
   "outputs": [],
   "source": [
    "## SF PER kBtu CHECK\n",
    "\n",
    "# Estimated Area\n",
    "ENV_LOSS['EstAreaSF'] = ENV_LOSS.loc[:, ['totalconditionedfloorareaofallbuildings', \n",
    "                                     'totalgrossfloorareaofallbuildings']].min(axis = 1)\n",
    "\n",
    "# Estimated kBtu / sf\n",
    "ENV_LOSS['Heating [sf / kBtu]'] = ENV_GAIN['EstAreaSF'] / ENV_LOSS['Heating Load - Envelope [kBtu]']"
   ]
  },
  {
   "cell_type": "markdown",
   "metadata": {
    "extensions": {
     "jupyter_dashboards": {
      "version": 1,
      "views": {
       "grid_default": {},
       "report_default": {
        "hidden": false
       }
      }
     }
    }
   },
   "source": [
    "## Calclulated Heating Load vs Building Type - Envelope Load"
   ]
  },
  {
   "cell_type": "code",
   "execution_count": 24,
   "metadata": {
    "extensions": {
     "jupyter_dashboards": {
      "version": 1,
      "views": {
       "grid_default": {},
       "report_default": {
        "hidden": false
       }
      }
     }
    }
   },
   "outputs": [],
   "source": [
    "#ENV_LOSS.head()"
   ]
  },
  {
   "cell_type": "code",
   "execution_count": 25,
   "metadata": {
    "extensions": {
     "jupyter_dashboards": {
      "version": 1,
      "views": {
       "grid_default": {},
       "report_default": {
        "hidden": false
       }
      }
     }
    }
   },
   "outputs": [
    {
     "data": {
      "image/png": "[encoded data removed]",
      "text/plain": [
       "<Figure size 842.4x595.44 with 1 Axes>"
      ]
     },
     "metadata": {},
     "output_type": "display_data"
    }
   ],
   "source": [
    "sns.set(rc={'figure.figsize':(11.7,8.27)})\n",
    "ax = sns.swarmplot(x=\"detail.primarybuildingtypecategory\", y=\"Heating [sf / kBtu]\", data=ENV_LOSS, color=\".25\")\n",
    "ax = sns.boxplot(x=\"detail.primarybuildingtypecategory\", y=\"Heating [sf / kBtu]\", data=ENV_LOSS)"
   ]
  },
  {
   "cell_type": "markdown",
   "metadata": {
    "extensions": {
     "jupyter_dashboards": {
      "version": 1,
      "views": {
       "grid_default": {},
       "report_default": {
        "hidden": false
       }
      }
     }
    }
   },
   "source": [
    "# EQUIPMENT CAPACITIES"
   ]
  },
  {
   "cell_type": "code",
   "execution_count": 26,
   "metadata": {
    "extensions": {
     "jupyter_dashboards": {
      "version": 1,
      "views": {
       "grid_default": {},
       "report_default": {
        "hidden": true
       }
      }
     }
    }
   },
   "outputs": [],
   "source": [
    "# Dictionaries used to support calculations\n",
    "\n",
    "# Chillers and boiler carrier load in hydronic equipment, not the equipment themselves\n",
    "# to avoid double counting, this dictionary is used as a multiplier\n",
    "sources = {'None':0, 'Natural Gas':1, 'Hot Water':0, 'Electricity':1, 'Heat Pump or RCC':1, \n",
    "           'Condenser Water':0, 'Propane':1, 'Chilled Water':0, 'Chilled and Hot Water (cool/heat)':0}\n",
    "# conversions to kBtu\n",
    "conver = {'kBtu':1, 'mBh':1, 'kW':3.41, 'Btu':0.01, 'watts': 0.0341, 'tons':12, 'None':0, np.nan:0}"
   ]
  },
  {
   "cell_type": "markdown",
   "metadata": {
    "extensions": {
     "jupyter_dashboards": {
      "version": 1,
      "views": {
       "grid_default": {},
       "report_default": {
        "hidden": true
       }
      }
     }
    }
   },
   "source": [
    "### AHUS"
   ]
  },
  {
   "cell_type": "code",
   "execution_count": 27,
   "metadata": {
    "extensions": {
     "jupyter_dashboards": {
      "version": 1,
      "views": {
       "grid_default": {},
       "report_default": {
        "hidden": true
       }
      }
     }
    }
   },
   "outputs": [
    {
     "data": {
      "text/html": [
       "<div>\n",
       "<style scoped>\n",
       "    .dataframe tbody tr th:only-of-type {\n",
       "        vertical-align: middle;\n",
       "    }\n",
       "\n",
       "    .dataframe tbody tr th {\n",
       "        vertical-align: top;\n",
       "    }\n",
       "\n",
       "    .dataframe thead th {\n",
       "        text-align: right;\n",
       "    }\n",
       "</style>\n",
       "<table border=\"1\" class=\"dataframe\">\n",
       "  <thead>\n",
       "    <tr style=\"text-align: right;\">\n",
       "      <th></th>\n",
       "      <th>siteid</th>\n",
       "      <th>hvaczoneid</th>\n",
       "      <th>qty</th>\n",
       "      <th>equiptype</th>\n",
       "      <th>heatingoutputcapacity</th>\n",
       "      <th>heatingoutputcapacityunits</th>\n",
       "      <th>heatingsource</th>\n",
       "      <th>coolingoutputcapacity</th>\n",
       "      <th>coolingoutputcapacityunits</th>\n",
       "      <th>coolingsource</th>\n",
       "      <th>totalHeatingCapacity [kBtu]</th>\n",
       "      <th>totalCoolingCapacity [kBtu]</th>\n",
       "    </tr>\n",
       "  </thead>\n",
       "  <tbody>\n",
       "    <tr>\n",
       "      <th>0</th>\n",
       "      <td>100016</td>\n",
       "      <td>1.0</td>\n",
       "      <td>1.0</td>\n",
       "      <td>Gas Pack with AC</td>\n",
       "      <td>200.0</td>\n",
       "      <td>kBtu</td>\n",
       "      <td>Natural Gas</td>\n",
       "      <td>90.0</td>\n",
       "      <td>kBtu</td>\n",
       "      <td>Electricity</td>\n",
       "      <td>200.0</td>\n",
       "      <td>90.0</td>\n",
       "    </tr>\n",
       "    <tr>\n",
       "      <th>1</th>\n",
       "      <td>100016</td>\n",
       "      <td>1.0</td>\n",
       "      <td>1.0</td>\n",
       "      <td>Gas Pack with AC</td>\n",
       "      <td>200.0</td>\n",
       "      <td>kBtu</td>\n",
       "      <td>Natural Gas</td>\n",
       "      <td>90.0</td>\n",
       "      <td>kBtu</td>\n",
       "      <td>Electricity</td>\n",
       "      <td>200.0</td>\n",
       "      <td>90.0</td>\n",
       "    </tr>\n",
       "    <tr>\n",
       "      <th>2</th>\n",
       "      <td>100201</td>\n",
       "      <td>1.0</td>\n",
       "      <td>3.0</td>\n",
       "      <td>Gas Pack with AC</td>\n",
       "      <td>93.0</td>\n",
       "      <td>kBtu</td>\n",
       "      <td>Natural Gas</td>\n",
       "      <td>48.0</td>\n",
       "      <td>kBtu</td>\n",
       "      <td>Electricity</td>\n",
       "      <td>279.0</td>\n",
       "      <td>144.0</td>\n",
       "    </tr>\n",
       "    <tr>\n",
       "      <th>3</th>\n",
       "      <td>100201</td>\n",
       "      <td>1.0</td>\n",
       "      <td>6.0</td>\n",
       "      <td>Gas Pack with AC</td>\n",
       "      <td>59.0</td>\n",
       "      <td>kBtu</td>\n",
       "      <td>Natural Gas</td>\n",
       "      <td>60.0</td>\n",
       "      <td>kBtu</td>\n",
       "      <td>Electricity</td>\n",
       "      <td>354.0</td>\n",
       "      <td>360.0</td>\n",
       "    </tr>\n",
       "    <tr>\n",
       "      <th>4</th>\n",
       "      <td>100201</td>\n",
       "      <td>1.0</td>\n",
       "      <td>2.0</td>\n",
       "      <td>Gas Pack with AC</td>\n",
       "      <td>56.0</td>\n",
       "      <td>kBtu</td>\n",
       "      <td>Natural Gas</td>\n",
       "      <td>36.0</td>\n",
       "      <td>kBtu</td>\n",
       "      <td>Electricity</td>\n",
       "      <td>112.0</td>\n",
       "      <td>72.0</td>\n",
       "    </tr>\n",
       "  </tbody>\n",
       "</table>\n",
       "</div>"
      ],
      "text/plain": [
       "   siteid  hvaczoneid  qty         equiptype  heatingoutputcapacity  \\\n",
       "0  100016         1.0  1.0  Gas Pack with AC                  200.0   \n",
       "1  100016         1.0  1.0  Gas Pack with AC                  200.0   \n",
       "2  100201         1.0  3.0  Gas Pack with AC                   93.0   \n",
       "3  100201         1.0  6.0  Gas Pack with AC                   59.0   \n",
       "4  100201         1.0  2.0  Gas Pack with AC                   56.0   \n",
       "\n",
       "  heatingoutputcapacityunits heatingsource  coolingoutputcapacity  \\\n",
       "0                       kBtu   Natural Gas                   90.0   \n",
       "1                       kBtu   Natural Gas                   90.0   \n",
       "2                       kBtu   Natural Gas                   48.0   \n",
       "3                       kBtu   Natural Gas                   60.0   \n",
       "4                       kBtu   Natural Gas                   36.0   \n",
       "\n",
       "  coolingoutputcapacityunits coolingsource  totalHeatingCapacity [kBtu]  \\\n",
       "0                       kBtu   Electricity                        200.0   \n",
       "1                       kBtu   Electricity                        200.0   \n",
       "2                       kBtu   Electricity                        279.0   \n",
       "3                       kBtu   Electricity                        354.0   \n",
       "4                       kBtu   Electricity                        112.0   \n",
       "\n",
       "   totalCoolingCapacity [kBtu]  \n",
       "0                         90.0  \n",
       "1                         90.0  \n",
       "2                        144.0  \n",
       "3                        360.0  \n",
       "4                         72.0  "
      ]
     },
     "execution_count": 27,
     "metadata": {},
     "output_type": "execute_result"
    }
   ],
   "source": [
    "## AHUs\n",
    "sql_query = 'SELECT siteid, hvaczoneid, qty, equiptype, heatingoutputcapacity, heatingoutputcapacityunits, heatingsource, coolingoutputcapacity, coolingoutputcapacityunits, coolingsource FROM AHUS'\n",
    "AHUS = pd.read_sql_query(sql_query, con)\n",
    "AHUS = AHUS.replace(r'^\\s*$', np.nan, regex=True) #replace blank spaces with NaN\n",
    "\n",
    "heatSourceCounter = 0\n",
    "coolSourceCounter = 0\n",
    "\n",
    "adjustedHeatingCap = []\n",
    "adjustedCoolingCap = []\n",
    "\n",
    "n = 0\n",
    "\n",
    "for i in range(0, len(AHUS)):\n",
    "    # conversions to kBtu * sources dictionary elimates double counting * capacity * quantity\n",
    "    adjustedHeatingCap.append(conver[AHUS['heatingoutputcapacityunits'][i]] * sources[AHUS['heatingsource'][i]] \n",
    "                              * AHUS['heatingoutputcapacity'][i] * AHUS['qty'][i])\n",
    "    adjustedCoolingCap.append(conver[AHUS['coolingoutputcapacityunits'][i]] * sources[AHUS['coolingsource'][i]] \n",
    "                              * AHUS['coolingoutputcapacity'][i] * AHUS['qty'][i])\n",
    "    \n",
    "    n = n+1\n",
    "    #print(n)\n",
    "    \n",
    "AHUS['totalHeatingCapacity [kBtu]'] = adjustedHeatingCap\n",
    "AHUS['totalCoolingCapacity [kBtu]'] = adjustedCoolingCap\n",
    "\n",
    "AHUS.head()"
   ]
  },
  {
   "cell_type": "markdown",
   "metadata": {
    "extensions": {
     "jupyter_dashboards": {
      "version": 1,
      "views": {
       "grid_default": {},
       "report_default": {
        "hidden": true
       }
      }
     }
    }
   },
   "source": [
    "### BOILERS"
   ]
  },
  {
   "cell_type": "code",
   "execution_count": 28,
   "metadata": {
    "extensions": {
     "jupyter_dashboards": {
      "version": 1,
      "views": {
       "grid_default": {},
       "report_default": {
        "hidden": true
       }
      }
     }
    }
   },
   "outputs": [],
   "source": [
    "## BOILERS\n",
    "sql_query = 'SELECT siteid, hvaczoneid, qty, outputcapacity, capacityunits FROM BOILERS'\n",
    "BOILERS = pd.read_sql_query(sql_query, con)\n",
    "\n",
    "adjustedHeatingCap = []\n",
    "for i in range(0, len(BOILERS)):\n",
    "    adjustedHeatingCap.append(BOILERS['qty'][i] * BOILERS['outputcapacity'][i])\n",
    "    \n",
    "BOILERS['totalHeatingCapacity [kBtu]'] = adjustedHeatingCap\n",
    "#BOILERS.head(row)"
   ]
  },
  {
   "cell_type": "markdown",
   "metadata": {
    "extensions": {
     "jupyter_dashboards": {
      "version": 1,
      "views": {
       "grid_default": {},
       "report_default": {
        "hidden": true
       }
      }
     }
    }
   },
   "source": [
    "### CHILLERS"
   ]
  },
  {
   "cell_type": "code",
   "execution_count": 29,
   "metadata": {
    "extensions": {
     "jupyter_dashboards": {
      "version": 1,
      "views": {
       "grid_default": {},
       "report_default": {
        "hidden": true
       }
      }
     }
    }
   },
   "outputs": [],
   "source": [
    "## CHILLERS\n",
    "sql_query = 'SELECT siteid, hvaczoneid, qty, capacity, capacityunits FROM CHILLERS'\n",
    "CHILLERS = pd.read_sql_query(sql_query, con)\n",
    "\n",
    "adjustedCoolingCap = []\n",
    "for i in range(0, len(CHILLERS)):\n",
    "    adjustedCoolingCap.append(CHILLERS['qty'][i] * CHILLERS['capacity'][i])\n",
    "\n",
    "CHILLERS['totalCoolingCapacity [kBtu]'] = adjustedCoolingCap\n",
    "#CHILLERS.head(row)"
   ]
  },
  {
   "cell_type": "markdown",
   "metadata": {
    "extensions": {
     "jupyter_dashboards": {
      "version": 1,
      "views": {
       "grid_default": {},
       "report_default": {
        "hidden": true
       }
      }
     }
    }
   },
   "source": [
    "### HPSACS"
   ]
  },
  {
   "cell_type": "code",
   "execution_count": 30,
   "metadata": {
    "extensions": {
     "jupyter_dashboards": {
      "version": 1,
      "views": {
       "grid_default": {},
       "report_default": {
        "hidden": true
       }
      }
     }
    }
   },
   "outputs": [],
   "source": [
    "# HPSACS\n",
    "\n",
    "sql_query = 'SELECT siteid, hvaczoneid, qty, heatingoutputcapacity, heatingoutputcapacityunits, coolingoutputcapacity, coolingoutputcapacityunits FROM HPSACS'\n",
    "HPSACS = pd.read_sql_query(sql_query, con)\n",
    "\n",
    "adjustedHeatingCap = []\n",
    "adjustedCoolingCap = []\n",
    "\n",
    "for i in range(0, len(HPSACS)):\n",
    "    adjustedHeatingCap.append(HPSACS['qty'][i] * HPSACS['heatingoutputcapacity'][i])\n",
    "    adjustedCoolingCap.append(HPSACS['qty'][i] * HPSACS['coolingoutputcapacity'][i])\n",
    "\n",
    "HPSACS['totalHeatingCapacity [kBtu]'] = adjustedHeatingCap\n",
    "HPSACS['totalCoolingCapacity [kBtu]'] = adjustedCoolingCap\n",
    "    \n",
    "#HPSACS.head(row)"
   ]
  },
  {
   "cell_type": "markdown",
   "metadata": {
    "extensions": {
     "jupyter_dashboards": {
      "version": 1,
      "views": {
       "grid_default": {},
       "report_default": {
        "hidden": true
       }
      }
     }
    }
   },
   "source": [
    "### TERMINAL UNITS"
   ]
  },
  {
   "cell_type": "code",
   "execution_count": 31,
   "metadata": {
    "extensions": {
     "jupyter_dashboards": {
      "version": 1,
      "views": {
       "grid_default": {},
       "report_default": {
        "hidden": true
       }
      }
     }
    }
   },
   "outputs": [],
   "source": [
    "sql_query = 'SELECT siteid, hvaczoneid, qty, fuel, heatingcapacity, heatingcapacityunits, coolingcapacity, coolingcapacityunits FROM TERMINALUNITS'\n",
    "TERMINALUNITS = pd.read_sql_query(sql_query, con)\n",
    "TERMINALUNITS = TERMINALUNITS.replace(r'^\\s*$', np.nan, regex=True) #replace blank spaces with NaN\n",
    "\n",
    "adjustedHeatingCap = []\n",
    "adjustedCoolingCap = []\n",
    "\n",
    "for i in range(0, len(TERMINALUNITS)):\n",
    "    # convert units * sources dictionary elimates double counting * capacity * quantity\n",
    "    adjustedHeatingCap.append(conver[TERMINALUNITS['heatingcapacityunits'][i]] * sources[TERMINALUNITS['fuel'][i]]\n",
    "                              * TERMINALUNITS['qty'][i] * TERMINALUNITS['heatingcapacity'][i])      \n",
    "    adjustedCoolingCap.append(conver[TERMINALUNITS['coolingcapacityunits'][i]] * sources[TERMINALUNITS['fuel'][i]]\n",
    "                              * TERMINALUNITS['qty'][i] * TERMINALUNITS['coolingcapacity'][i])\n",
    "        \n",
    "TERMINALUNITS['totalHeatingCapacity [kBtu]'] = adjustedHeatingCap\n",
    "TERMINALUNITS['totalCoolingCapacity [kBtu]'] = adjustedCoolingCap\n",
    "\n",
    "#TERMINALUNITS.head(row)"
   ]
  },
  {
   "cell_type": "code",
   "execution_count": 32,
   "metadata": {
    "extensions": {
     "jupyter_dashboards": {
      "version": 1,
      "views": {
       "grid_default": {},
       "report_default": {
        "hidden": true
       }
      }
     }
    }
   },
   "outputs": [],
   "source": [
    "## CREATE SUMMATION DATAFRAME - CAPACITIES\n",
    "\n",
    "# Goupby Sites\n",
    "# this step makes all dfs siteid indexed\n",
    "AHUS = AHUS.groupby('siteid').sum()\n",
    "BOILERS = BOILERS.groupby('siteid').sum()\n",
    "CHILLERS = CHILLERS.groupby('siteid').sum()\n",
    "HPSACS = HPSACS.groupby('siteid').sum()\n",
    "TERMINALUNITS = TERMINALUNITS.groupby('siteid').sum()"
   ]
  },
  {
   "cell_type": "code",
   "execution_count": 33,
   "metadata": {
    "extensions": {
     "jupyter_dashboards": {
      "version": 1,
      "views": {
       "grid_default": {},
       "report_default": {
        "hidden": true
       }
      }
     }
    }
   },
   "outputs": [],
   "source": [
    "# Create DataFrame of Sites\n",
    "\n",
    "# text for UA sql query\n",
    "sql_query = 'SELECT SITE_DETAILS.totalconditionedfloorareaofallbuildings, '\n",
    "sql_query += 'SITE_DETAILS.totalgrossfloorareaofallbuildings, ' \n",
    "sql_query += 'siteid, stratum, city, SITE_DETAILS.[detail.primarybuildingtypecategory] FROM SITE_DETAILS'\n",
    "\n",
    "CAPACITIES = pd.read_sql_query(sql_query, con)\n",
    "CAPACITIES = CAPACITIES.replace(r'^\\s*$', np.nan, regex=True) #replace blank spaces with NaN"
   ]
  },
  {
   "cell_type": "code",
   "execution_count": 34,
   "metadata": {
    "extensions": {
     "jupyter_dashboards": {
      "version": 1,
      "views": {
       "grid_default": {},
       "report_default": {
        "hidden": true
       }
      }
     }
    }
   },
   "outputs": [],
   "source": [
    "# Map to dictionaries to add to dataframes\n",
    "\n",
    "# AHUS\n",
    "ahu_heating = dict(zip(AHUS.index.tolist(),AHUS['totalHeatingCapacity [kBtu]'].tolist()))\n",
    "ahu_cooling = dict(zip(AHUS.index.tolist(),AHUS['totalCoolingCapacity [kBtu]'].tolist()))\n",
    "CAPACITIES['AHUS_heating [kBtu]'] = CAPACITIES['siteid'].map(ahu_heating)\n",
    "CAPACITIES['AHUS_cooling [kBtu]'] = CAPACITIES['siteid'].map(ahu_cooling)\n",
    "\n",
    "# BOILERS\n",
    "boiler_heating = dict(zip(BOILERS.index.tolist(),BOILERS['totalHeatingCapacity [kBtu]'].tolist()))\n",
    "CAPACITIES['BOILERS_heating [kBtu]'] = CAPACITIES['siteid'].map(boiler_heating)\n",
    "\n",
    "# CHILLERS\n",
    "chiller_cooling = dict(zip(CHILLERS.index.tolist(),CHILLERS['totalCoolingCapacity [kBtu]'].tolist()))\n",
    "CAPACITIES['CHILLERS_cooling [kBtu]'] = CAPACITIES['siteid'].map(chiller_cooling)\n",
    "\n",
    "# HPSACS\n",
    "HP_heating = dict(zip(HPSACS.index.tolist(),HPSACS['totalHeatingCapacity [kBtu]'].tolist()))\n",
    "HP_cooling = dict(zip(HPSACS.index.tolist(),HPSACS['totalCoolingCapacity [kBtu]'].tolist()))\n",
    "CAPACITIES['HPSACS_heating [kBtu]'] = CAPACITIES['siteid'].map(HP_heating)\n",
    "CAPACITIES['HPSACS_cooling [kBtu]'] = CAPACITIES['siteid'].map(HP_cooling)\n",
    "\n",
    "# TERMINALUNITS\n",
    "TERM_heating = dict(zip(TERMINALUNITS.index.tolist(),TERMINALUNITS['totalHeatingCapacity [kBtu]'].tolist()))\n",
    "TERM_cooling = dict(zip(TERMINALUNITS.index.tolist(),TERMINALUNITS['totalCoolingCapacity [kBtu]'].tolist()))\n",
    "CAPACITIES['TERMINALUNITS_heating [kBtu]'] = CAPACITIES['siteid'].map(TERM_heating)\n",
    "CAPACITIES['TERMINALUNITS_cooling [kBtu]'] = CAPACITIES['siteid'].map(TERM_cooling)"
   ]
  },
  {
   "cell_type": "code",
   "execution_count": 35,
   "metadata": {
    "extensions": {
     "jupyter_dashboards": {
      "version": 1,
      "views": {
       "grid_default": {},
       "report_default": {
        "hidden": true
       }
      }
     }
    }
   },
   "outputs": [],
   "source": [
    "CAPACITIES['totalHeatingCapacity [kBtu]'] = (CAPACITIES['AHUS_heating [kBtu]'].replace(np.nan, 0) + \n",
    "                                             CAPACITIES['BOILERS_heating [kBtu]'].replace(np.nan, 0) +\n",
    "                                             CAPACITIES['HPSACS_heating [kBtu]'].replace(np.nan, 0) +\n",
    "                                             CAPACITIES['TERMINALUNITS_heating [kBtu]'].replace(np.nan, 0))\n",
    "\n",
    "CAPACITIES['totalCoolingCapacity [kBtu]'] = (CAPACITIES['AHUS_cooling [kBtu]'].replace(np.nan, 0) + \n",
    "                                             CAPACITIES['CHILLERS_cooling [kBtu]'].replace(np.nan, 0) +\n",
    "                                             CAPACITIES['HPSACS_cooling [kBtu]'].replace(np.nan, 0) +\n",
    "                                             CAPACITIES['TERMINALUNITS_cooling [kBtu]'].replace(np.nan, 0))  "
   ]
  },
  {
   "cell_type": "code",
   "execution_count": 36,
   "metadata": {
    "extensions": {
     "jupyter_dashboards": {
      "version": 1,
      "views": {
       "grid_default": {},
       "report_default": {
        "hidden": true
       }
      }
     }
    }
   },
   "outputs": [],
   "source": [
    "## SF PER kBtu CHECK\n",
    "\n",
    "# Estimated Area\n",
    "CAPACITIES['EstAreaSF'] = CAPACITIES.loc[:, ['totalconditionedfloorareaofallbuildings', \n",
    "                                     'totalgrossfloorareaofallbuildings']].min(axis = 1)\n",
    "\n",
    "cool = []\n",
    "heat = []\n",
    "\n",
    "for i in range(0, len(CAPACITIES)):\n",
    "    if CAPACITIES['totalHeatingCapacity [kBtu]'][i] > 5:\n",
    "        # Estimated sf / kBtu\n",
    "        heat.append(CAPACITIES['EstAreaSF'][i] / CAPACITIES['totalHeatingCapacity [kBtu]'][i])\n",
    "    else:\n",
    "        heat.append(np.nan)\n",
    "    if CAPACITIES['totalCoolingCapacity [kBtu]'][i] > 5:\n",
    "        # Estimated sf / ton\n",
    "        cool.append(CAPACITIES['EstAreaSF'][i] / (CAPACITIES['totalCoolingCapacity [kBtu]'][i]/12))\n",
    "    else:\n",
    "        cool.append(np.nan)\n",
    "\n",
    "CAPACITIES['Heating [sf / kBtu]'] = heat\n",
    "CAPACITIES['Cooling [sf / ton]'] = cool\n",
    "\n",
    "#CAPACITIES.head()"
   ]
  },
  {
   "cell_type": "code",
   "execution_count": 37,
   "metadata": {
    "extensions": {
     "jupyter_dashboards": {
      "version": 1,
      "views": {
       "grid_default": {},
       "report_default": {
        "hidden": true
       }
      }
     }
    }
   },
   "outputs": [],
   "source": [
    "folder = 'RESULTS\\\\'\n",
    "name = 'CAPACITIES.csv'\n",
    "CAPACITIES.to_csv(path + folder + name)"
   ]
  },
  {
   "cell_type": "markdown",
   "metadata": {
    "extensions": {
     "jupyter_dashboards": {
      "version": 1,
      "views": {
       "grid_default": {},
       "report_default": {
        "hidden": false
       }
      }
     }
    }
   },
   "source": [
    "## Heating Capacities - Equipment Summation"
   ]
  },
  {
   "cell_type": "code",
   "execution_count": 38,
   "metadata": {
    "extensions": {
     "jupyter_dashboards": {
      "version": 1,
      "views": {
       "grid_default": {},
       "report_default": {
        "hidden": false
       }
      }
     }
    }
   },
   "outputs": [
    {
     "data": {
      "image/png": "[encoded data removed]",
      "text/plain": [
       "<Figure size 842.4x595.44 with 1 Axes>"
      ]
     },
     "metadata": {},
     "output_type": "display_data"
    }
   ],
   "source": [
    "sns.set(rc={'figure.figsize':(11.7,8.27)})\n",
    "ax = sns.swarmplot(x=\"detail.primarybuildingtypecategory\", y='Heating [sf / kBtu]', data=CAPACITIES, color=\".25\")\n",
    "ax = sns.boxplot(x=\"detail.primarybuildingtypecategory\", y='Heating [sf / kBtu]', data=CAPACITIES)"
   ]
  },
  {
   "cell_type": "markdown",
   "metadata": {
    "extensions": {
     "jupyter_dashboards": {
      "version": 1,
      "views": {
       "grid_default": {},
       "report_default": {
        "hidden": false
       }
      }
     }
    }
   },
   "source": [
    "## Cooling Capacities - Equipment Summation"
   ]
  },
  {
   "cell_type": "code",
   "execution_count": 39,
   "metadata": {
    "extensions": {
     "jupyter_dashboards": {
      "version": 1,
      "views": {
       "grid_default": {},
       "report_default": {
        "hidden": false
       }
      }
     }
    }
   },
   "outputs": [
    {
     "data": {
      "image/png": "[encoded data removed]",
      "text/plain": [
       "<Figure size 842.4x595.44 with 1 Axes>"
      ]
     },
     "metadata": {},
     "output_type": "display_data"
    }
   ],
   "source": [
    "sns.set(rc={'figure.figsize':(11.7,8.27)})\n",
    "ax = sns.swarmplot(x=\"detail.primarybuildingtypecategory\", y='Cooling [sf / ton]', data=CAPACITIES, color=\".25\")\n",
    "ax = sns.boxplot(x=\"detail.primarybuildingtypecategory\", y='Cooling [sf / ton]', data=CAPACITIES)"
   ]
  },
  {
   "cell_type": "markdown",
   "metadata": {
    "extensions": {
     "jupyter_dashboards": {
      "version": 1,
      "views": {
       "grid_default": {},
       "report_default": {
        "hidden": false
       }
      }
     }
    }
   },
   "source": [
    "# LOAD V. CAPACITY COMPARISON"
   ]
  },
  {
   "cell_type": "code",
   "execution_count": 40,
   "metadata": {
    "extensions": {
     "jupyter_dashboards": {
      "version": 1,
      "views": {
       "grid_default": {},
       "report_default": {
        "hidden": true
       }
      }
     }
    }
   },
   "outputs": [],
   "source": [
    "df = pd.DataFrame()"
   ]
  },
  {
   "cell_type": "code",
   "execution_count": 41,
   "metadata": {
    "extensions": {
     "jupyter_dashboards": {
      "version": 1,
      "views": {
       "grid_default": {},
       "report_default": {
        "hidden": true
       }
      }
     }
    }
   },
   "outputs": [],
   "source": [
    "## General Data\n",
    "df['siteid'] = CAPACITIES['siteid']\n",
    "df['Building Area [sf]'] = CAPACITIES['EstAreaSF']\n",
    "df['Building Type'] = CAPACITIES['detail.primarybuildingtypecategory']\n",
    "\n",
    "## Load Data\n",
    "cool = []\n",
    "heat = []\n",
    "\n",
    "for i in range(0, len(df)):\n",
    "    cool.append(1/((1 / ENV_GAIN['Cooling [sf / ton]'][i]) + \n",
    "                (1 / OA_LOADS['OA Cooling [sf / ton]'][df['siteid'][i]])))\n",
    "    \n",
    "    heat.append(1/((1 / ENV_LOSS['Heating [sf / kBtu]'][i]) + \n",
    "                (1 / OA_LOADS['OA Heating [sf / kBtu]'][df['siteid'][i]])))\n",
    "\n",
    "\n",
    "\n",
    "\n",
    "df['Cooling Estimated Load [sf / ton]'] = cool\n",
    "df['Heating Estimated Load [sf / kBtu]'] = heat\n",
    "\n",
    "#Equipment Capacity Data\n",
    "df['Cooling Equipment Capacity [sf / ton]'] = CAPACITIES['Cooling [sf / ton]']\n",
    "df['Heating Equipment Capacity [sf / kBtu]'] = CAPACITIES['Heating [sf / kBtu]']\n",
    "\n",
    "#df.head()"
   ]
  },
  {
   "cell_type": "code",
   "execution_count": null,
   "metadata": {
    "extensions": {
     "jupyter_dashboards": {
      "version": 1,
      "views": {
       "grid_default": {},
       "report_default": {
        "hidden": true
       }
      }
     }
    }
   },
   "outputs": [],
   "source": []
  },
  {
   "cell_type": "code",
   "execution_count": 42,
   "metadata": {
    "extensions": {
     "jupyter_dashboards": {
      "version": 1,
      "views": {
       "grid_default": {},
       "report_default": {
        "hidden": true
       }
      }
     }
    }
   },
   "outputs": [],
   "source": [
    "df_long_heating = pd.melt(df, id_vars=[\"Building Type\"],\n",
    "                          value_vars=[\"Heating Estimated Load [sf / kBtu]\",\n",
    "                                      \"Heating Equipment Capacity [sf / kBtu]\"])\n",
    "\n",
    "df_cool = df.drop([6])\n",
    "df_long_cooling = pd.melt(df_cool, id_vars=[\"Building Type\"],\n",
    "                          value_vars=[\"Cooling Estimated Load [sf / ton]\",\n",
    "                                      \"Cooling Equipment Capacity [sf / ton]\"])"
   ]
  },
  {
   "cell_type": "code",
   "execution_count": 43,
   "metadata": {
    "extensions": {
     "jupyter_dashboards": {
      "version": 1,
      "views": {
       "grid_default": {},
       "report_default": {
        "hidden": true
       }
      }
     }
    }
   },
   "outputs": [],
   "source": [
    "folder = 'RESULTS\\\\'\n",
    "name = 'COMPILED.csv'\n",
    "df.to_csv(path + folder + name)"
   ]
  },
  {
   "cell_type": "markdown",
   "metadata": {
    "extensions": {
     "jupyter_dashboards": {
      "version": 1,
      "views": {
       "grid_default": {},
       "report_default": {
        "hidden": false
       }
      }
     }
    }
   },
   "source": [
    "## Heating Comparison "
   ]
  },
  {
   "cell_type": "code",
   "execution_count": 44,
   "metadata": {
    "extensions": {
     "jupyter_dashboards": {
      "version": 1,
      "views": {
       "grid_default": {},
       "report_default": {
        "hidden": false
       }
      }
     }
    }
   },
   "outputs": [
    {
     "data": {
      "image/png": "[encoded data removed]",
      "text/plain": [
       "<Figure size 842.4x595.44 with 1 Axes>"
      ]
     },
     "metadata": {},
     "output_type": "display_data"
    }
   ],
   "source": [
    "ax = sns.boxplot(x=\"Building Type\", y=\"value\", hue=\"variable\", data=df_long_heating, palette=\"Set3\")"
   ]
  },
  {
   "cell_type": "markdown",
   "metadata": {
    "extensions": {
     "jupyter_dashboards": {
      "version": 1,
      "views": {
       "grid_default": {},
       "report_default": {
        "hidden": false
       }
      }
     }
    }
   },
   "source": [
    "## Cooling Comparison"
   ]
  },
  {
   "cell_type": "code",
   "execution_count": 45,
   "metadata": {
    "extensions": {
     "jupyter_dashboards": {
      "version": 1,
      "views": {
       "grid_default": {},
       "report_default": {
        "hidden": false
       }
      }
     }
    }
   },
   "outputs": [
    {
     "data": {
      "image/png": "[encoded data removed]",
      "text/plain": [
       "<Figure size 842.4x595.44 with 1 Axes>"
      ]
     },
     "metadata": {},
     "output_type": "display_data"
    }
   ],
   "source": [
    "ax = sns.boxplot(x=\"Building Type\", y=\"value\", hue=\"variable\", data=df_long_cooling, palette=\"Set3\")"
   ]
  },
  {
   "cell_type": "code",
   "execution_count": null,
   "metadata": {
    "extensions": {
     "jupyter_dashboards": {
      "version": 1,
      "views": {
       "grid_default": {},
       "report_default": {
        "hidden": true
       }
      }
     }
    }
   },
   "outputs": [],
   "source": []
  },
  {
   "cell_type": "code",
   "execution_count": null,
   "metadata": {
    "extensions": {
     "jupyter_dashboards": {
      "version": 1,
      "views": {
       "grid_default": {},
       "report_default": {
        "hidden": true
       }
      }
     }
    }
   },
   "outputs": [],
   "source": []
  }
 ],
 "metadata": {
  "extensions": {
   "jupyter_dashboards": {
    "activeView": "report_default",
    "version": 1,
    "views": {
     "grid_default": {
      "cellMargin": 10,
      "defaultCellHeight": 20,
      "maxColumns": 12,
      "name": "grid",
      "type": "grid"
     },
     "report_default": {
      "name": "report",
      "type": "report"
     }
    }
   }
  },
  "kernelspec": {
   "display_name": "Python 3",
   "language": "python",
   "name": "python3"
  },
  "language_info": {
   "codemirror_mode": {
    "name": "ipython",
    "version": 3
   },
   "file_extension": ".py",
   "mimetype": "text/x-python",
   "name": "python",
   "nbconvert_exporter": "python",
   "pygments_lexer": "ipython3",
   "version": "3.7.3"
  }
 },
 "nbformat": 4,
 "nbformat_minor": 2
}
